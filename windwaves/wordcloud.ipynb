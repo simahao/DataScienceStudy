{
 "cells": [
  {
   "cell_type": "markdown",
   "metadata": {},
   "source": [
    "## Wind&Wave data analysis"
   ]
  },
  {
   "cell_type": "markdown",
   "metadata": {},
   "source": [
    "### Load bullet screen and thumb up data"
   ]
  },
  {
   "cell_type": "code",
   "execution_count": 35,
   "metadata": {},
   "outputs": [],
   "source": [
    "import sys\n",
    "import numpy as np\n",
    "import matplotlib.pyplot as plt\n",
    "import pandas as pd\n",
    "from pyecharts.charts import Bar\n",
    "from pyecharts import options as opts\n",
    "from pyecharts.options.global_options import ThemeType\n",
    "from pyecharts.globals import WarningType\n",
    "WarningType.ShowWarning = False "
   ]
  },
  {
   "cell_type": "code",
   "execution_count": 37,
   "metadata": {
    "tags": []
   },
   "outputs": [
    {
     "output_type": "stream",
     "name": "stdout",
     "text": "D:\\Program Files\\Python37\\python.exe\n"
    },
    {
     "output_type": "execute_result",
     "data": {
      "text/plain": "   date            content thumbUp\n0  0621             昕姐冲！！！      24\n1  0621              在看一次！       0\n2  0621  为黄圣依，张雨绮，郑希怡打call      10\n3  0621       姐姐们 我来了~~！！！      21\n4  0621     我去，真的爱了，都是我喜欢的      13\n5  0621  揭谛揭谛揭谛快点快点开始考科三考试       0\n6  0621               支持杨幂      57\n7  0621           啊啊啊坤坤我来了      44\n8  0621     顾以森报道哈哈哈哈哈哈哈哈哈      14\n9  0621               姐姐冲啊      19",
      "text/html": "<div>\n<style scoped>\n    .dataframe tbody tr th:only-of-type {\n        vertical-align: middle;\n    }\n\n    .dataframe tbody tr th {\n        vertical-align: top;\n    }\n\n    .dataframe thead th {\n        text-align: right;\n    }\n</style>\n<table border=\"1\" class=\"dataframe\">\n  <thead>\n    <tr style=\"text-align: right;\">\n      <th></th>\n      <th>date</th>\n      <th>content</th>\n      <th>thumbUp</th>\n    </tr>\n  </thead>\n  <tbody>\n    <tr>\n      <th>0</th>\n      <td>0621</td>\n      <td>昕姐冲！！！</td>\n      <td>24</td>\n    </tr>\n    <tr>\n      <th>1</th>\n      <td>0621</td>\n      <td>在看一次！</td>\n      <td>0</td>\n    </tr>\n    <tr>\n      <th>2</th>\n      <td>0621</td>\n      <td>为黄圣依，张雨绮，郑希怡打call</td>\n      <td>10</td>\n    </tr>\n    <tr>\n      <th>3</th>\n      <td>0621</td>\n      <td>姐姐们 我来了~~！！！</td>\n      <td>21</td>\n    </tr>\n    <tr>\n      <th>4</th>\n      <td>0621</td>\n      <td>我去，真的爱了，都是我喜欢的</td>\n      <td>13</td>\n    </tr>\n    <tr>\n      <th>5</th>\n      <td>0621</td>\n      <td>揭谛揭谛揭谛快点快点开始考科三考试</td>\n      <td>0</td>\n    </tr>\n    <tr>\n      <th>6</th>\n      <td>0621</td>\n      <td>支持杨幂</td>\n      <td>57</td>\n    </tr>\n    <tr>\n      <th>7</th>\n      <td>0621</td>\n      <td>啊啊啊坤坤我来了</td>\n      <td>44</td>\n    </tr>\n    <tr>\n      <th>8</th>\n      <td>0621</td>\n      <td>顾以森报道哈哈哈哈哈哈哈哈哈</td>\n      <td>14</td>\n    </tr>\n    <tr>\n      <th>9</th>\n      <td>0621</td>\n      <td>姐姐冲啊</td>\n      <td>19</td>\n    </tr>\n  </tbody>\n</table>\n</div>"
     },
     "metadata": {},
     "execution_count": 37
    }
   ],
   "source": [
    "print(sys.executable)\n",
    "bullet = pd.read_csv('data/bullet.csv')\n",
    "bullet.head(10)"
   ]
  },
  {
   "cell_type": "markdown",
   "metadata": {},
   "source": [
    "### load wikipedia data that includes player information and game information"
   ]
  },
  {
   "cell_type": "code",
   "execution_count": 28,
   "metadata": {
    "tags": []
   },
   "outputs": [
    {
     "output_type": "execute_result",
     "data": {
      "text/plain": "     本名      昵称\n0   蓝盈莹  蓝盈莹|盈莹\n1    黄龄      黄龄\n2  李斯丹妮      丹妮",
      "text/html": "<div>\n<style scoped>\n    .dataframe tbody tr th:only-of-type {\n        vertical-align: middle;\n    }\n\n    .dataframe tbody tr th {\n        vertical-align: top;\n    }\n\n    .dataframe thead th {\n        text-align: right;\n    }\n</style>\n<table border=\"1\" class=\"dataframe\">\n  <thead>\n    <tr style=\"text-align: right;\">\n      <th></th>\n      <th>本名</th>\n      <th>昵称</th>\n    </tr>\n  </thead>\n  <tbody>\n    <tr>\n      <th>0</th>\n      <td>蓝盈莹</td>\n      <td>蓝盈莹|盈莹</td>\n    </tr>\n    <tr>\n      <th>1</th>\n      <td>黄龄</td>\n      <td>黄龄</td>\n    </tr>\n    <tr>\n      <th>2</th>\n      <td>李斯丹妮</td>\n      <td>丹妮</td>\n    </tr>\n  </tbody>\n</table>\n</div>"
     },
     "metadata": {},
     "execution_count": 28
    }
   ],
   "source": [
    "wiki = pd.read_csv('data/wikipedia.csv')\n",
    "player = wiki.loc[:, ['本名']]\n",
    "# player = pd.DataFrame(wiki['本名'])\n",
    "player['昵称'] = ['蓝盈莹|盈莹', '黄龄', '丹妮', '孟佳', '梦辰', \n",
    "                     '可唯', '宁静|静静子|静姐', '霏霏', '希怡', '袁咏琳',\n",
    "                     '圣依|依依子', '金晨', '阿朵', '含韵', '白冰',\n",
    "                     '钟丽缇', '茜', '张萌|萌萌子', '婧汐', '丁当',\n",
    "                     '许飞', '刘芸|芸芸子', '吴昕|昕昕子|昕姐|昕昕', '伊能静', '松伶',\n",
    "                     '丽坤', '张雨绮|雨绮|绮绮子', '海陆', '金莎', '王智']\n",
    "player.loc[0:2, :]"
   ]
  },
  {
   "cell_type": "markdown",
   "metadata": {},
   "source": [
    "### get palyers' nickname"
   ]
  },
  {
   "cell_type": "code",
   "execution_count": 29,
   "metadata": {
    "tags": []
   },
   "outputs": [
    {
     "output_type": "execute_result",
     "data": {
      "text/plain": "['蓝盈莹|盈莹',\n '黄龄',\n '丹妮',\n '孟佳',\n '梦辰',\n '可唯',\n '宁静|静静子|静姐',\n '霏霏',\n '希怡',\n '袁咏琳',\n '圣依|依依子',\n '金晨',\n '阿朵',\n '含韵',\n '白冰',\n '钟丽缇',\n '茜',\n '张萌|萌萌子',\n '婧汐',\n '丁当',\n '许飞',\n '刘芸|芸芸子',\n '吴昕|昕昕子|昕姐|昕昕',\n '伊能静',\n '松伶',\n '丽坤',\n '张雨绮|雨绮|绮绮子',\n '海陆',\n '金莎',\n '王智']"
     },
     "metadata": {},
     "execution_count": 29
    }
   ],
   "source": [
    "nick_name = player.loc[:, '昵称'].to_list()\n",
    "nick_name"
   ]
  },
  {
   "cell_type": "markdown",
   "metadata": {},
   "source": [
    "### get thumb up(votes) information from bullet screen"
   ]
  },
  {
   "cell_type": "code",
   "execution_count": 30,
   "metadata": {
    "tags": []
   },
   "outputs": [
    {
     "output_type": "execute_result",
     "data": {
      "text/plain": "     本名      昵称  thumbUp\n0   蓝盈莹  蓝盈莹|盈莹      394\n1    黄龄      黄龄      748\n2  李斯丹妮      丹妮      343\n3    孟佳      孟佳      292\n4   沈梦辰      梦辰      831",
      "text/html": "<div>\n<style scoped>\n    .dataframe tbody tr th:only-of-type {\n        vertical-align: middle;\n    }\n\n    .dataframe tbody tr th {\n        vertical-align: top;\n    }\n\n    .dataframe thead th {\n        text-align: right;\n    }\n</style>\n<table border=\"1\" class=\"dataframe\">\n  <thead>\n    <tr style=\"text-align: right;\">\n      <th></th>\n      <th>本名</th>\n      <th>昵称</th>\n      <th>thumbUp</th>\n    </tr>\n  </thead>\n  <tbody>\n    <tr>\n      <th>0</th>\n      <td>蓝盈莹</td>\n      <td>蓝盈莹|盈莹</td>\n      <td>394</td>\n    </tr>\n    <tr>\n      <th>1</th>\n      <td>黄龄</td>\n      <td>黄龄</td>\n      <td>748</td>\n    </tr>\n    <tr>\n      <th>2</th>\n      <td>李斯丹妮</td>\n      <td>丹妮</td>\n      <td>343</td>\n    </tr>\n    <tr>\n      <th>3</th>\n      <td>孟佳</td>\n      <td>孟佳</td>\n      <td>292</td>\n    </tr>\n    <tr>\n      <th>4</th>\n      <td>沈梦辰</td>\n      <td>梦辰</td>\n      <td>831</td>\n    </tr>\n  </tbody>\n</table>\n</div>"
     },
     "metadata": {},
     "execution_count": 30
    }
   ],
   "source": [
    "thumbUpList = []\n",
    "for name in nick_name:\n",
    "    thumb_bullet = bullet.loc[bullet['content'].str.contains(name)]\n",
    "    thumbUp = thumb_bullet.shape[0]\n",
    "    thumbUpList.append(thumbUp)\n",
    "player['thumbUp'] = thumbUpList\n",
    "player.head()"
   ]
  },
  {
   "cell_type": "markdown",
   "metadata": {},
   "source": [
    "### Normalized"
   ]
  },
  {
   "cell_type": "code",
   "execution_count": 31,
   "metadata": {},
   "outputs": [
    {
     "output_type": "execute_result",
     "data": {
      "text/plain": "      本名  thumbUp  normalization\n7    王霏霏      231          0.000\n9    袁咏琳      238          0.002\n18   朱婧汐      251          0.007\n3     孟佳      292          0.021\n21    刘芸      299          0.023\n29    王智      331          0.034\n2   李斯丹妮      343          0.038\n24   陈松伶      388          0.053\n0    蓝盈莹      394          0.055\n12    阿朵      416          0.063\n25   王丽坤      450          0.074\n5    郁可唯      572          0.116\n13   张含韵      585          0.120\n28    金莎      666          0.147\n20    许飞      689          0.155\n8    郑希怡      714          0.164\n17    张萌      723          0.167\n1     黄龄      748          0.175\n15   钟丽缇      754          0.177\n4    沈梦辰      831          0.203\n10   黄圣依      837          0.205\n11    金晨     1072          0.285\n14    白冰     1080          0.288\n22    吴昕     1491          0.427\n16    万茜     1603          0.465\n23   伊能静     1608          0.466\n27    海陆     1630          0.474\n26   张雨绮     2013          0.604\n19    丁当     2327          0.710\n6     宁静     3183          1.000",
      "text/html": "<div>\n<style scoped>\n    .dataframe tbody tr th:only-of-type {\n        vertical-align: middle;\n    }\n\n    .dataframe tbody tr th {\n        vertical-align: top;\n    }\n\n    .dataframe thead th {\n        text-align: right;\n    }\n</style>\n<table border=\"1\" class=\"dataframe\">\n  <thead>\n    <tr style=\"text-align: right;\">\n      <th></th>\n      <th>本名</th>\n      <th>thumbUp</th>\n      <th>normalization</th>\n    </tr>\n  </thead>\n  <tbody>\n    <tr>\n      <th>7</th>\n      <td>王霏霏</td>\n      <td>231</td>\n      <td>0.000</td>\n    </tr>\n    <tr>\n      <th>9</th>\n      <td>袁咏琳</td>\n      <td>238</td>\n      <td>0.002</td>\n    </tr>\n    <tr>\n      <th>18</th>\n      <td>朱婧汐</td>\n      <td>251</td>\n      <td>0.007</td>\n    </tr>\n    <tr>\n      <th>3</th>\n      <td>孟佳</td>\n      <td>292</td>\n      <td>0.021</td>\n    </tr>\n    <tr>\n      <th>21</th>\n      <td>刘芸</td>\n      <td>299</td>\n      <td>0.023</td>\n    </tr>\n    <tr>\n      <th>29</th>\n      <td>王智</td>\n      <td>331</td>\n      <td>0.034</td>\n    </tr>\n    <tr>\n      <th>2</th>\n      <td>李斯丹妮</td>\n      <td>343</td>\n      <td>0.038</td>\n    </tr>\n    <tr>\n      <th>24</th>\n      <td>陈松伶</td>\n      <td>388</td>\n      <td>0.053</td>\n    </tr>\n    <tr>\n      <th>0</th>\n      <td>蓝盈莹</td>\n      <td>394</td>\n      <td>0.055</td>\n    </tr>\n    <tr>\n      <th>12</th>\n      <td>阿朵</td>\n      <td>416</td>\n      <td>0.063</td>\n    </tr>\n    <tr>\n      <th>25</th>\n      <td>王丽坤</td>\n      <td>450</td>\n      <td>0.074</td>\n    </tr>\n    <tr>\n      <th>5</th>\n      <td>郁可唯</td>\n      <td>572</td>\n      <td>0.116</td>\n    </tr>\n    <tr>\n      <th>13</th>\n      <td>张含韵</td>\n      <td>585</td>\n      <td>0.120</td>\n    </tr>\n    <tr>\n      <th>28</th>\n      <td>金莎</td>\n      <td>666</td>\n      <td>0.147</td>\n    </tr>\n    <tr>\n      <th>20</th>\n      <td>许飞</td>\n      <td>689</td>\n      <td>0.155</td>\n    </tr>\n    <tr>\n      <th>8</th>\n      <td>郑希怡</td>\n      <td>714</td>\n      <td>0.164</td>\n    </tr>\n    <tr>\n      <th>17</th>\n      <td>张萌</td>\n      <td>723</td>\n      <td>0.167</td>\n    </tr>\n    <tr>\n      <th>1</th>\n      <td>黄龄</td>\n      <td>748</td>\n      <td>0.175</td>\n    </tr>\n    <tr>\n      <th>15</th>\n      <td>钟丽缇</td>\n      <td>754</td>\n      <td>0.177</td>\n    </tr>\n    <tr>\n      <th>4</th>\n      <td>沈梦辰</td>\n      <td>831</td>\n      <td>0.203</td>\n    </tr>\n    <tr>\n      <th>10</th>\n      <td>黄圣依</td>\n      <td>837</td>\n      <td>0.205</td>\n    </tr>\n    <tr>\n      <th>11</th>\n      <td>金晨</td>\n      <td>1072</td>\n      <td>0.285</td>\n    </tr>\n    <tr>\n      <th>14</th>\n      <td>白冰</td>\n      <td>1080</td>\n      <td>0.288</td>\n    </tr>\n    <tr>\n      <th>22</th>\n      <td>吴昕</td>\n      <td>1491</td>\n      <td>0.427</td>\n    </tr>\n    <tr>\n      <th>16</th>\n      <td>万茜</td>\n      <td>1603</td>\n      <td>0.465</td>\n    </tr>\n    <tr>\n      <th>23</th>\n      <td>伊能静</td>\n      <td>1608</td>\n      <td>0.466</td>\n    </tr>\n    <tr>\n      <th>27</th>\n      <td>海陆</td>\n      <td>1630</td>\n      <td>0.474</td>\n    </tr>\n    <tr>\n      <th>26</th>\n      <td>张雨绮</td>\n      <td>2013</td>\n      <td>0.604</td>\n    </tr>\n    <tr>\n      <th>19</th>\n      <td>丁当</td>\n      <td>2327</td>\n      <td>0.710</td>\n    </tr>\n    <tr>\n      <th>6</th>\n      <td>宁静</td>\n      <td>3183</td>\n      <td>1.000</td>\n    </tr>\n  </tbody>\n</table>\n</div>"
     },
     "metadata": {},
     "execution_count": 31
    }
   ],
   "source": [
    "range = player['thumbUp'].max() - player['thumbUp'].min()\n",
    "minMax = (player['thumbUp'] - player['thumbUp'].min()) / range\n",
    "#player['normalization'] = round(minMax * 100, 1)\n",
    "player['normalization'] = round(minMax, 3)\n",
    "rank = player.sort_values(by=['normalization'])[['本名', 'thumbUp', 'normalization']]\n",
    "rank"
   ]
  },
  {
   "cell_type": "markdown",
   "metadata": {},
   "source": [
    "### rank"
   ]
  },
  {
   "cell_type": "code",
   "execution_count": 34,
   "metadata": {
    "tags": []
   },
   "outputs": [
    {
     "output_type": "execute_result",
     "data": {
      "text/plain": "'d:\\\\dev\\\\python\\\\DataScienceStudy\\\\windwaves\\\\render.html'"
     },
     "metadata": {},
     "execution_count": 34
    }
   ],
   "source": [
    "bar = (\n",
    "    Bar(init_opts=opts.InitOpts(width='800px', height='600px', theme=ThemeType.MACARONS))\n",
    "    .add_xaxis(rank['本名'].to_list())\n",
    "    .add_yaxis('rank', rank['thumbUp'].to_list())\n",
    "    .reversal_axis()\n",
    "    .set_global_opts(title_opts=opts.TitleOpts(title='选手排名'))\n",
    ")\n",
    "bar.render()"
   ]
  },
  {
   "cell_type": "code",
   "execution_count": 33,
   "metadata": {
    "tags": []
   },
   "outputs": [
    {
     "output_type": "stream",
     "name": "stdout",
     "text": "['蓝盈莹', '盈莹', '黄龄', '丹妮', '孟佳', '梦辰', '可唯', '宁静', '静静子', '静姐', '霏霏', '希怡', '袁咏琳', '圣依', '依依子', '金晨', '阿朵', '含韵', '白冰', '钟丽缇', '茜', '张萌', '萌萌子', '婧汐', '丁当', '许飞', '刘芸', '芸芸子', '吴昕', '昕昕子', '昕姐', '昕昕', '伊能静', '松伶', '丽坤', '张雨绮', '雨绮', '绮绮子', '海陆', '金莎', '王智']\n"
    }
   ],
   "source": [
    "words = player['昵称'].str.cat(sep=\"|\").replace('|', ':').split(':')\n",
    "print(words)"
   ]
  },
  {
   "cell_type": "code",
   "execution_count": null,
   "metadata": {},
   "outputs": [],
   "source": []
  }
 ],
 "metadata": {
  "language_info": {
   "codemirror_mode": {
    "name": "ipython",
    "version": 3
   },
   "file_extension": ".py",
   "mimetype": "text/x-python",
   "name": "python",
   "nbconvert_exporter": "python",
   "pygments_lexer": "ipython3",
   "version": "3.7.2-final"
  },
  "orig_nbformat": 2,
  "kernelspec": {
   "name": "python37264bitcdcb17c1eb544b3e93225f9ace60f2a9",
   "display_name": "Python 3.7.2 64-bit"
  }
 },
 "nbformat": 4,
 "nbformat_minor": 2
}